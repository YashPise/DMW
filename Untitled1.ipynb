{
 "cells": [
  {
   "cell_type": "code",
   "execution_count": 2,
   "id": "2900eed0",
   "metadata": {},
   "outputs": [
    {
     "name": "stdout",
     "output_type": "stream",
     "text": [
      "[('Jam',), ('Butter',), ('Bread',), ('Milk',), ('Butter', 'Jam'), ('Jam', 'Milk'), ('Butter', 'Milk')]\n"
     ]
    }
   ],
   "source": [
    "def generate_candidates(itemsets, k):\n",
    "    \"\"\"\n",
    "    Generate candidate itemsets of size k from the previous frequent itemsets.\n",
    "    \"\"\"\n",
    "    candidates = []\n",
    "    n = len(itemsets)\n",
    "    \n",
    "    for i in range(n):\n",
    "        for j in range(i + 1, n):\n",
    "            itemset1 = itemsets[i]\n",
    "            itemset2 = itemsets[j]\n",
    "            \n",
    "            # Take the union of itemset1 and itemset2\n",
    "            candidate = sorted(set(itemset1) | set(itemset2))\n",
    "            \n",
    "            # Check if the candidate has already been added\n",
    "            if candidate not in candidates:\n",
    "                candidates.append(candidate)\n",
    "    \n",
    "    return candidates\n",
    "\n",
    "\n",
    "def count_support(dataset, itemsets, min_support):\n",
    "    \"\"\"\n",
    "    Count the support of each candidate itemset in the dataset.\n",
    "    \"\"\"\n",
    "    support_counts = {}\n",
    "    n = len(dataset)\n",
    "    \n",
    "    for itemset in itemsets:\n",
    "        for transaction in dataset:\n",
    "            if set(itemset).issubset(set(transaction)):\n",
    "                support_counts[tuple(itemset)] = support_counts.get(tuple(itemset), 0) + 1\n",
    "    \n",
    "    frequent_itemsets = []\n",
    "    \n",
    "    for itemset, count in support_counts.items():\n",
    "        support = count / n\n",
    "        \n",
    "        if support >= min_support:\n",
    "            frequent_itemsets.append(itemset)\n",
    "    \n",
    "    return frequent_itemsets\n",
    "\n",
    "\n",
    "def apriori(dataset, min_support):\n",
    "    \"\"\"\n",
    "    Perform the Apriori algorithm on the dataset.\n",
    "    \"\"\"\n",
    "    itemsets = [[item] for item in set([item for transaction in dataset for item in transaction])]\n",
    "    frequent_itemsets = count_support(dataset, itemsets, min_support)\n",
    "    all_frequent_itemsets = frequent_itemsets\n",
    "    \n",
    "    k = 2\n",
    "    \n",
    "    while frequent_itemsets:\n",
    "        candidates = generate_candidates(frequent_itemsets, k)\n",
    "        frequent_itemsets = count_support(dataset, candidates, min_support)\n",
    "        \n",
    "        all_frequent_itemsets.extend(frequent_itemsets)\n",
    "        \n",
    "        k += 1\n",
    "    \n",
    "    return all_frequent_itemsets\n",
    "\n",
    "\n",
    "# Example usage\n",
    "dataset = [\n",
    "    ['Milk', 'Bread', 'Butter', 'Jam', 'toast'],\n",
    "    ['Milk', 'Butter'],\n",
    "    ['Bread', 'Jam'],\n",
    "    ['Milk', 'Butter', 'Jam'],\n",
    "    ['Milk', 'Jam'],\n",
    "    ['Bread', 'Butter'],\n",
    "    ['Butter', 'Jam']\n",
    "]\n",
    "\n",
    "min_support = 0.4\n",
    "\n",
    "frequent_itemsets = apriori(dataset, min_support)\n",
    "print(frequent_itemsets)"
   ]
  },
  {
   "cell_type": "code",
   "execution_count": null,
   "id": "1e0fb563",
   "metadata": {},
   "outputs": [],
   "source": []
  },
  {
   "cell_type": "code",
   "execution_count": null,
   "id": "f956b9ee",
   "metadata": {},
   "outputs": [],
   "source": []
  }
 ],
 "metadata": {
  "kernelspec": {
   "display_name": "Python 3 (ipykernel)",
   "language": "python",
   "name": "python3"
  },
  "language_info": {
   "codemirror_mode": {
    "name": "ipython",
    "version": 3
   },
   "file_extension": ".py",
   "mimetype": "text/x-python",
   "name": "python",
   "nbconvert_exporter": "python",
   "pygments_lexer": "ipython3",
   "version": "3.9.13"
  }
 },
 "nbformat": 4,
 "nbformat_minor": 5
}
